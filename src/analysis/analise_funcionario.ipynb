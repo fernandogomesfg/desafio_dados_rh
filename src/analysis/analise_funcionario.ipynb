{
 "cells": [
  {
   "cell_type": "markdown",
   "metadata": {},
   "source": [
    "# Tempo médio de permanência: Em um olhar geral qual a permanência de um funcionário"
   ]
  },
  {
   "cell_type": "code",
   "execution_count": 1,
   "metadata": {},
   "outputs": [],
   "source": [
    "import pandas as pd"
   ]
  },
  {
   "cell_type": "code",
   "execution_count": 40,
   "metadata": {},
   "outputs": [],
   "source": [
    "# Carregar os dados do arquivo CSV\n",
    "caminho_arquivo = \"../../data/processed/dados_processados.csv\" \n",
    "dados = pd.read_csv(caminho_arquivo)"
   ]
  },
  {
   "cell_type": "code",
   "execution_count": 43,
   "metadata": {},
   "outputs": [
    {
     "name": "stdout",
     "output_type": "stream",
     "text": [
      "O tempo médio de permanência dos funcionários é de aproximadamente 1 ano, 6 meses e 19 dias.\n"
     ]
    }
   ],
   "source": [
    "# Calcular o tempo médio de permanência em dias\n",
    "tempo_medio_permanencia_dias = dados['Tempo_Permanencia'].mean()\n",
    "\n",
    "# Transformar o tempo médio de permanência em anos, meses e dias\n",
    "anos = int(tempo_medio_permanencia_dias / 365)\n",
    "meses = int((tempo_medio_permanencia_dias % 365) / 30)\n",
    "dias = int((tempo_medio_permanencia_dias % 365) % 30)\n",
    "\n",
    "print(\"O tempo médio de permanência dos funcionários é de aproximadamente {} ano, {} meses e {} dias.\".format(anos, meses, dias))"
   ]
  },
  {
   "cell_type": "markdown",
   "metadata": {},
   "source": [
    "# Ciclos de rotatividades: Períodos em que houve maior rotatividade"
   ]
  }
 ],
 "metadata": {
  "kernelspec": {
   "display_name": "venv",
   "language": "python",
   "name": "python3"
  },
  "language_info": {
   "codemirror_mode": {
    "name": "ipython",
    "version": 3
   },
   "file_extension": ".py",
   "mimetype": "text/x-python",
   "name": "python",
   "nbconvert_exporter": "python",
   "pygments_lexer": "ipython3",
   "version": "3.10.9"
  }
 },
 "nbformat": 4,
 "nbformat_minor": 2
}
